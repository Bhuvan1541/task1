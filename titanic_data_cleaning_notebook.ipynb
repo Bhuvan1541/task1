
{
 "cells": [
  {
   "cell_type": "markdown",
   "metadata": {},
   "source": [
    "# Titanic Dataset - Data Cleaning & Preprocessing\n",
    "This walkthrough shows how we clean and prepare the Titanic dataset step-by-step so that it\u2019s ready for machine learning models. Let\u2019s break it down!\n"
   ]
  },
  {
   "cell_type": "code",
   "execution_count": 1,
   "metadata": {},
   "outputs": [],
   "source": [
    "import pandas as pd\n",
    "import numpy as np\n",
    "import seaborn as sns\n",
    "import matplotlib.pyplot as plt\n",
    "from sklearn.preprocessing import LabelEncoder, StandardScaler\n"
   ]
  },
  {
   "cell_type": "markdown",
   "metadata": {},
   "source": [
    "## 1. Importing the Essentials\n",
    "We start by importing the tools we'll use:\n",
    "- pandas and numpy help us work with the data.\n",
    "- seaborn and matplotlib are for plotting graphs.\n",
    "- LabelEncoder and StandardScaler help us convert and scale data for ML.\n"
   ]
  },
  {
   "cell_type": "code",
   "execution_count": 2,
   "metadata": {},
   "outputs": [],
   "source": [
    "df = pd.read_csv('Titanic-Dataset.csv')\n"
   ]
  },
  {
   "cell_type": "markdown",
   "metadata": {},
   "source": [
    "## 2. Loading the Titanic Dataset\n",
    "We load the Titanic dataset from a CSV file and store it in a variable called `df`.\n"
   ]
  },
  {
   "cell_type": "code",
   "execution_count": 3,
   "metadata": {},
   "outputs": [],
   "source": [
    "print(df.info())\n",
    "print(df.isnull().sum())\n"
   ]
  },
  {
   "cell_type": "markdown",
   "metadata": {},
   "source": [
    "## 3. Taking a First Look at the Data\n",
    "We check:\n",
    "- What columns we have and what kind of data they contain (`info()`).\n",
    "- Which columns are missing values (`isnull().sum()`).\n",
    "This helps us understand what needs cleaning.\n"
   ]
  },
  {
   "cell_type": "code",
   "execution_count": 4,
   "metadata": {},
   "outputs": [],
   "source": [
    "df['Age'].fillna(df['Age'].median(), inplace=True)\n",
    "df['Embarked'].fillna(df['Embarked'].mode()[0], inplace=True)\n",
    "df.drop(columns=['Cabin'], inplace=True)\n"
   ]
  },
  {
   "cell_type": "markdown",
   "metadata": {},
   "source": [
    "## 4. Fixing Missing Values\n",
    "Here's how we handle missing data:\n",
    "- Age: Filled with the median value (since age isn't evenly distributed).\n",
    "- Embarked: Filled with the most frequent value (the mode).\n",
    "- Cabin: Dropped because it\u2019s missing too much data and isn't very useful.\n"
   ]
  },
  {
   "cell_type": "code",
   "execution_count": 5,
   "metadata": {},
   "outputs": [],
   "source": [
    "le = LabelEncoder()\n",
    "df['Sex'] = le.fit_transform(df['Sex'])\n",
    "df = pd.get_dummies(df, columns=['Embarked'], drop_first=True)\n"
   ]
  },
  {
   "cell_type": "markdown",
   "metadata": {},
   "source": [
    "## 5. Turning Text into Numbers\n",
    "Machines don\u2019t understand text, so:\n",
    "- Sex is turned into numbers using Label Encoding (Male = 1, Female = 0).\n",
    "- Embarked is broken into separate columns using One-Hot Encoding (e.g., `Embarked_Q`, `Embarked_S`), and we drop the first one to avoid redundancy.\n"
   ]
  },
  {
   "cell_type": "code",
   "execution_count": 6,
   "metadata": {},
   "outputs": [],
   "source": [
    "scaler = StandardScaler()\n",
    "df[['Age', 'Fare']] = scaler.fit_transform(df[['Age', 'Fare']])\n"
   ]
  },
  {
   "cell_type": "markdown",
   "metadata": {},
   "source": [
    "## 6. Scaling the Numbers\n",
    "We scale `Age` and `Fare` so that they:\n",
    "- Have a mean of 0 and a standard deviation of 1.\n",
    "This helps models treat all numeric columns fairly.\n"
   ]
  },
  {
   "cell_type": "code",
   "execution_count": 7,
   "metadata": {},
   "outputs": [],
   "source": [
    "sns.boxplot(df['Fare'])\n",
    "plt.show()\n",
    "df = df[df['Fare'] < 3]\n"
   ]
  },
  {
   "cell_type": "markdown",
   "metadata": {},
   "source": [
    "## 7. Spotting and Removing Outliers\n",
    "The boxplot helps us visualize outliers in the `Fare` column.\n",
    "Then we remove entries where Fare is greater than or equal to 3 \u2014 though this might be too strict and throw away useful data.\n",
    "Better Option: Use the IQR method instead to remove only extreme outliers.\n"
   ]
  },
  {
   "cell_type": "code",
   "execution_count": 8,
   "metadata": {},
   "outputs": [],
   "source": [
    "print(df.head())\n"
   ]
  },
  {
   "cell_type": "markdown",
   "metadata": {},
   "source": [
    "## 8. Looking at the Cleaned Data\n",
    "Finally, we take a peek at the cleaned-up data to make sure everything looks good.\n",
    "With these steps, we\u2019ve cleaned the data, handled missing values, converted text to numbers, scaled the features, and dealt with outliers \u2014 all crucial steps to get the dataset ML-ready!\n",
    "Let me know if you want this converted into a notebook, report, or anything else!\n"
   ]
  }
 ],
 "metadata": {},
 "nbformat": 4,
 "nbformat_minor": 5
}
